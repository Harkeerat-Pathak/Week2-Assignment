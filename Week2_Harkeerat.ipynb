{
  "nbformat": 4,
  "nbformat_minor": 0,
  "metadata": {
    "colab": {
      "provenance": [],
      "toc_visible": true,
      "include_colab_link": true
    },
    "kernelspec": {
      "display_name": "Python 3",
      "name": "python3"
    },
    "gpuClass": "standard"
  },
  "cells": [
    {
      "cell_type": "markdown",
      "metadata": {
        "id": "view-in-github",
        "colab_type": "text"
      },
      "source": [
        "<a href=\"https://colab.research.google.com/github/Harkeerat-Pathak/Week2-Assignment/blob/main/Week2_Harkeerat.ipynb\" target=\"_parent\"><img src=\"https://colab.research.google.com/assets/colab-badge.svg\" alt=\"Open In Colab\"/></a>"
      ]
    },
    {
      "cell_type": "markdown",
      "metadata": {
        "id": "N-usDSKdzzuC"
      },
      "source": [
        "# **Assignment 2: Clean your data**\n",
        "\n",
        "In this week's assignment we will perform the complete data preprocessing on a dataset from a clinical research laboratory."
      ]
    },
    {
      "cell_type": "markdown",
      "metadata": {
        "id": "grLUOWYm8gLi"
      },
      "source": [
        "## Description\n",
        "\n",
        "Obesity is a risk factor for breast cancer in premenopausal women. Existing literature has found that obesity is a risk factor because it can increase estrogen levels in women. Specifically, a biomarker of estrogen level, serum estradiol, is an identified risk factor for breast cancer. To evaluate this type of relationship, researchers studied a group of 211 women of premenonausal age in the USA, 151 of whom were black (African American) and 60 white (Caucasian). Adiposity was quantified with two different measures: BMI and WHR. Estradiol level was also measured from hormone analysis. Other risk factors such as number of children and age of the woman are also included. The dataset includes the following descriptors:\n",
        "\n",
        "* **Id:** identifier.\n",
        "* **Estrad (serum estradiol):** measure of estradiol (hormone analysis)\n",
        "* **Ethnic (ethnicity):** African American or Caucasian.\n",
        "* **Entage:** age of the person.\n",
        "* **NumChild:** number of children.\n",
        "* **Agefbo:** age at which the person has had the first child.\n",
        "* **Anykids:** 1 if he/she has had children, 0 if he/she has not.\n",
        "* **Agemenar:** age of menarche (first menstruation).\n",
        "* **BMI:** measure of general adiposity.\n",
        "* **WHR:** measure of abdominal adiposity.\n",
        "* **Area:** rural (1) or urban (0)."
      ]
    },
    {
      "cell_type": "markdown",
      "metadata": {
        "id": "XUcO8j-I21_e"
      },
      "source": [
        "## File upload\n",
        "\n",
        "We start by loading the dataset we will be working with. Remember that in order to start working with Google Colab you must **Connect to a runtime environment**.\n",
        "\n",
        "Then you must go to the **Files** folder (in the left panel), where you must upload the csv attached to this assignment."
      ]
    },
    {
      "cell_type": "code",
      "metadata": {
        "id": "oopeOfes3prz",
        "colab": {
          "base_uri": "https://localhost:8080/",
          "height": 74
        },
        "outputId": "4aa61417-7f4e-4987-b8fa-2059d2bf7558"
      },
      "source": [
        "import pandas as pd\n",
        "\n",
        "from google.colab import files\n",
        "upload_file=files.upload()\n",
        "\n"
      ],
      "execution_count": null,
      "outputs": [
        {
          "output_type": "display_data",
          "data": {
            "text/plain": [
              "<IPython.core.display.HTML object>"
            ],
            "text/html": [
              "\n",
              "     <input type=\"file\" id=\"files-01e4c83a-e8e3-4c49-95c9-2e30e01d0fe0\" name=\"files[]\" multiple disabled\n",
              "        style=\"border:none\" />\n",
              "     <output id=\"result-01e4c83a-e8e3-4c49-95c9-2e30e01d0fe0\">\n",
              "      Upload widget is only available when the cell has been executed in the\n",
              "      current browser session. Please rerun this cell to enable.\n",
              "      </output>\n",
              "      <script>// Copyright 2017 Google LLC\n",
              "//\n",
              "// Licensed under the Apache License, Version 2.0 (the \"License\");\n",
              "// you may not use this file except in compliance with the License.\n",
              "// You may obtain a copy of the License at\n",
              "//\n",
              "//      http://www.apache.org/licenses/LICENSE-2.0\n",
              "//\n",
              "// Unless required by applicable law or agreed to in writing, software\n",
              "// distributed under the License is distributed on an \"AS IS\" BASIS,\n",
              "// WITHOUT WARRANTIES OR CONDITIONS OF ANY KIND, either express or implied.\n",
              "// See the License for the specific language governing permissions and\n",
              "// limitations under the License.\n",
              "\n",
              "/**\n",
              " * @fileoverview Helpers for google.colab Python module.\n",
              " */\n",
              "(function(scope) {\n",
              "function span(text, styleAttributes = {}) {\n",
              "  const element = document.createElement('span');\n",
              "  element.textContent = text;\n",
              "  for (const key of Object.keys(styleAttributes)) {\n",
              "    element.style[key] = styleAttributes[key];\n",
              "  }\n",
              "  return element;\n",
              "}\n",
              "\n",
              "// Max number of bytes which will be uploaded at a time.\n",
              "const MAX_PAYLOAD_SIZE = 100 * 1024;\n",
              "\n",
              "function _uploadFiles(inputId, outputId) {\n",
              "  const steps = uploadFilesStep(inputId, outputId);\n",
              "  const outputElement = document.getElementById(outputId);\n",
              "  // Cache steps on the outputElement to make it available for the next call\n",
              "  // to uploadFilesContinue from Python.\n",
              "  outputElement.steps = steps;\n",
              "\n",
              "  return _uploadFilesContinue(outputId);\n",
              "}\n",
              "\n",
              "// This is roughly an async generator (not supported in the browser yet),\n",
              "// where there are multiple asynchronous steps and the Python side is going\n",
              "// to poll for completion of each step.\n",
              "// This uses a Promise to block the python side on completion of each step,\n",
              "// then passes the result of the previous step as the input to the next step.\n",
              "function _uploadFilesContinue(outputId) {\n",
              "  const outputElement = document.getElementById(outputId);\n",
              "  const steps = outputElement.steps;\n",
              "\n",
              "  const next = steps.next(outputElement.lastPromiseValue);\n",
              "  return Promise.resolve(next.value.promise).then((value) => {\n",
              "    // Cache the last promise value to make it available to the next\n",
              "    // step of the generator.\n",
              "    outputElement.lastPromiseValue = value;\n",
              "    return next.value.response;\n",
              "  });\n",
              "}\n",
              "\n",
              "/**\n",
              " * Generator function which is called between each async step of the upload\n",
              " * process.\n",
              " * @param {string} inputId Element ID of the input file picker element.\n",
              " * @param {string} outputId Element ID of the output display.\n",
              " * @return {!Iterable<!Object>} Iterable of next steps.\n",
              " */\n",
              "function* uploadFilesStep(inputId, outputId) {\n",
              "  const inputElement = document.getElementById(inputId);\n",
              "  inputElement.disabled = false;\n",
              "\n",
              "  const outputElement = document.getElementById(outputId);\n",
              "  outputElement.innerHTML = '';\n",
              "\n",
              "  const pickedPromise = new Promise((resolve) => {\n",
              "    inputElement.addEventListener('change', (e) => {\n",
              "      resolve(e.target.files);\n",
              "    });\n",
              "  });\n",
              "\n",
              "  const cancel = document.createElement('button');\n",
              "  inputElement.parentElement.appendChild(cancel);\n",
              "  cancel.textContent = 'Cancel upload';\n",
              "  const cancelPromise = new Promise((resolve) => {\n",
              "    cancel.onclick = () => {\n",
              "      resolve(null);\n",
              "    };\n",
              "  });\n",
              "\n",
              "  // Wait for the user to pick the files.\n",
              "  const files = yield {\n",
              "    promise: Promise.race([pickedPromise, cancelPromise]),\n",
              "    response: {\n",
              "      action: 'starting',\n",
              "    }\n",
              "  };\n",
              "\n",
              "  cancel.remove();\n",
              "\n",
              "  // Disable the input element since further picks are not allowed.\n",
              "  inputElement.disabled = true;\n",
              "\n",
              "  if (!files) {\n",
              "    return {\n",
              "      response: {\n",
              "        action: 'complete',\n",
              "      }\n",
              "    };\n",
              "  }\n",
              "\n",
              "  for (const file of files) {\n",
              "    const li = document.createElement('li');\n",
              "    li.append(span(file.name, {fontWeight: 'bold'}));\n",
              "    li.append(span(\n",
              "        `(${file.type || 'n/a'}) - ${file.size} bytes, ` +\n",
              "        `last modified: ${\n",
              "            file.lastModifiedDate ? file.lastModifiedDate.toLocaleDateString() :\n",
              "                                    'n/a'} - `));\n",
              "    const percent = span('0% done');\n",
              "    li.appendChild(percent);\n",
              "\n",
              "    outputElement.appendChild(li);\n",
              "\n",
              "    const fileDataPromise = new Promise((resolve) => {\n",
              "      const reader = new FileReader();\n",
              "      reader.onload = (e) => {\n",
              "        resolve(e.target.result);\n",
              "      };\n",
              "      reader.readAsArrayBuffer(file);\n",
              "    });\n",
              "    // Wait for the data to be ready.\n",
              "    let fileData = yield {\n",
              "      promise: fileDataPromise,\n",
              "      response: {\n",
              "        action: 'continue',\n",
              "      }\n",
              "    };\n",
              "\n",
              "    // Use a chunked sending to avoid message size limits. See b/62115660.\n",
              "    let position = 0;\n",
              "    do {\n",
              "      const length = Math.min(fileData.byteLength - position, MAX_PAYLOAD_SIZE);\n",
              "      const chunk = new Uint8Array(fileData, position, length);\n",
              "      position += length;\n",
              "\n",
              "      const base64 = btoa(String.fromCharCode.apply(null, chunk));\n",
              "      yield {\n",
              "        response: {\n",
              "          action: 'append',\n",
              "          file: file.name,\n",
              "          data: base64,\n",
              "        },\n",
              "      };\n",
              "\n",
              "      let percentDone = fileData.byteLength === 0 ?\n",
              "          100 :\n",
              "          Math.round((position / fileData.byteLength) * 100);\n",
              "      percent.textContent = `${percentDone}% done`;\n",
              "\n",
              "    } while (position < fileData.byteLength);\n",
              "  }\n",
              "\n",
              "  // All done.\n",
              "  yield {\n",
              "    response: {\n",
              "      action: 'complete',\n",
              "    }\n",
              "  };\n",
              "}\n",
              "\n",
              "scope.google = scope.google || {};\n",
              "scope.google.colab = scope.google.colab || {};\n",
              "scope.google.colab._files = {\n",
              "  _uploadFiles,\n",
              "  _uploadFilesContinue,\n",
              "};\n",
              "})(self);\n",
              "</script> "
            ]
          },
          "metadata": {}
        },
        {
          "output_type": "stream",
          "name": "stdout",
          "text": [
            "Saving estradiol.csv to estradiol.csv\n"
          ]
        }
      ]
    },
    {
      "cell_type": "code",
      "source": [
        "dataset = pd.read_csv('estradiol.csv', sep=';')"
      ],
      "metadata": {
        "id": "-_YW48mj17eN"
      },
      "execution_count": null,
      "outputs": []
    },
    {
      "cell_type": "markdown",
      "metadata": {
        "id": "pX845cQQ4XLY"
      },
      "source": [
        "**Exercise:** Make a brief preliminar inspection of the dataset, indicating the number of records, the number of descriptors, and the name of the descriptors. If you identify a descriptor that should not appear in the dataset, remove it."
      ]
    },
    {
      "cell_type": "code",
      "metadata": {
        "id": "k9DMAsBe4Tni",
        "colab": {
          "base_uri": "https://localhost:8080/"
        },
        "outputId": "250b9142-19f8-4648-eb76-541aa028df2b"
      },
      "source": [
        "# Description of the dataset\n",
        "\n",
        "dataset.info()"
      ],
      "execution_count": null,
      "outputs": [
        {
          "output_type": "stream",
          "name": "stdout",
          "text": [
            "<class 'pandas.core.frame.DataFrame'>\n",
            "Int64Index: 211 entries, 1 to 211\n",
            "Data columns (total 11 columns):\n",
            " #   Column    Non-Null Count  Dtype \n",
            "---  ------    --------------  ----- \n",
            " 0   Id        211 non-null    int64 \n",
            " 1   Estradl   211 non-null    object\n",
            " 2   Ethnic    211 non-null    object\n",
            " 3   Entage    211 non-null    object\n",
            " 4   Numchild  211 non-null    int64 \n",
            " 5   Agefbo    211 non-null    int64 \n",
            " 6   Anykids   211 non-null    int64 \n",
            " 7   Agemenar  211 non-null    object\n",
            " 8   BMI       211 non-null    object\n",
            " 9   WHR       211 non-null    object\n",
            " 10  Area      211 non-null    int64 \n",
            "dtypes: int64(5), object(6)\n",
            "memory usage: 19.8+ KB\n"
          ]
        }
      ]
    },
    {
      "cell_type": "code",
      "source": [
        "# dataset.info\n",
        "print('Dataset has {} records and {} descriptors'.format(*dataset.shape))\n",
        "print(dataset.columns)\n",
        "dataset"
      ],
      "metadata": {
        "colab": {
          "base_uri": "https://localhost:8080/",
          "height": 495
        },
        "id": "zAVxhbjf2uhV",
        "outputId": "2e3fa0bf-2338-4d5a-a06c-d2ad0696c284"
      },
      "execution_count": null,
      "outputs": [
        {
          "output_type": "stream",
          "name": "stdout",
          "text": [
            "Dataset has 211 records and 11 descriptors\n",
            "Index(['Id', 'Estradl', 'Ethnic', 'Entage', 'Numchild', 'Agefbo', 'Anykids',\n",
            "       'Agemenar', 'BMI', 'WHR', 'Area'],\n",
            "      dtype='object')\n"
          ]
        },
        {
          "output_type": "execute_result",
          "data": {
            "text/plain": [
              "       Id Estradl                  Ethnic Entage  Numchild  Agefbo  Anykids  \\\n",
              "1       2      94               Caucasian     30         0       0        0   \n",
              "2       2     7.7               Caucasian     23         0       0        0   \n",
              "3       3   20.23                Caucsian     21         0       0        0   \n",
              "4       6   41.37               Caucasian     33         0       0        0   \n",
              "5       8   42,57                Caucsian     31         0       0        0   \n",
              "..    ...     ...                     ...    ...       ...     ...      ...   \n",
              "207  3530    31.6        African American     34         2      19        1   \n",
              "208  4110    76.3        African American     22         1      19        1   \n",
              "209  4170      25        African American     30         0       0        0   \n",
              "210  4180    19.3                   Af Am     27         1      25        1   \n",
              "211  4400    10.1     African American        19         0       0        0   \n",
              "\n",
              "    Agemenar      BMI   WHR  Area  \n",
              "1       11,0  18,9038   0,7     0  \n",
              "2       15.0  20,4386   0,7     0  \n",
              "3       13.0  22,2578  0,75     1  \n",
              "4       14.0  20,5265  0,73     1  \n",
              "5       13.0  24,3356  0,75     1  \n",
              "..       ...      ...   ...   ...  \n",
              "207     10,0   36,668  0,86     1  \n",
              "208     14.0   33,835  0,83     1  \n",
              "209     15,0  28,7316  0,92     1  \n",
              "210     15.0  37,2757  0,91     1  \n",
              "211     13.0  42,2424  0,91     1  \n",
              "\n",
              "[211 rows x 11 columns]"
            ],
            "text/html": [
              "\n",
              "  <div id=\"df-155c233d-9657-4a5b-ae81-df33932cf95b\">\n",
              "    <div class=\"colab-df-container\">\n",
              "      <div>\n",
              "<style scoped>\n",
              "    .dataframe tbody tr th:only-of-type {\n",
              "        vertical-align: middle;\n",
              "    }\n",
              "\n",
              "    .dataframe tbody tr th {\n",
              "        vertical-align: top;\n",
              "    }\n",
              "\n",
              "    .dataframe thead th {\n",
              "        text-align: right;\n",
              "    }\n",
              "</style>\n",
              "<table border=\"1\" class=\"dataframe\">\n",
              "  <thead>\n",
              "    <tr style=\"text-align: right;\">\n",
              "      <th></th>\n",
              "      <th>Id</th>\n",
              "      <th>Estradl</th>\n",
              "      <th>Ethnic</th>\n",
              "      <th>Entage</th>\n",
              "      <th>Numchild</th>\n",
              "      <th>Agefbo</th>\n",
              "      <th>Anykids</th>\n",
              "      <th>Agemenar</th>\n",
              "      <th>BMI</th>\n",
              "      <th>WHR</th>\n",
              "      <th>Area</th>\n",
              "    </tr>\n",
              "  </thead>\n",
              "  <tbody>\n",
              "    <tr>\n",
              "      <th>1</th>\n",
              "      <td>2</td>\n",
              "      <td>94</td>\n",
              "      <td>Caucasian</td>\n",
              "      <td>30</td>\n",
              "      <td>0</td>\n",
              "      <td>0</td>\n",
              "      <td>0</td>\n",
              "      <td>11,0</td>\n",
              "      <td>18,9038</td>\n",
              "      <td>0,7</td>\n",
              "      <td>0</td>\n",
              "    </tr>\n",
              "    <tr>\n",
              "      <th>2</th>\n",
              "      <td>2</td>\n",
              "      <td>7.7</td>\n",
              "      <td>Caucasian</td>\n",
              "      <td>23</td>\n",
              "      <td>0</td>\n",
              "      <td>0</td>\n",
              "      <td>0</td>\n",
              "      <td>15.0</td>\n",
              "      <td>20,4386</td>\n",
              "      <td>0,7</td>\n",
              "      <td>0</td>\n",
              "    </tr>\n",
              "    <tr>\n",
              "      <th>3</th>\n",
              "      <td>3</td>\n",
              "      <td>20.23</td>\n",
              "      <td>Caucsian</td>\n",
              "      <td>21</td>\n",
              "      <td>0</td>\n",
              "      <td>0</td>\n",
              "      <td>0</td>\n",
              "      <td>13.0</td>\n",
              "      <td>22,2578</td>\n",
              "      <td>0,75</td>\n",
              "      <td>1</td>\n",
              "    </tr>\n",
              "    <tr>\n",
              "      <th>4</th>\n",
              "      <td>6</td>\n",
              "      <td>41.37</td>\n",
              "      <td>Caucasian</td>\n",
              "      <td>33</td>\n",
              "      <td>0</td>\n",
              "      <td>0</td>\n",
              "      <td>0</td>\n",
              "      <td>14.0</td>\n",
              "      <td>20,5265</td>\n",
              "      <td>0,73</td>\n",
              "      <td>1</td>\n",
              "    </tr>\n",
              "    <tr>\n",
              "      <th>5</th>\n",
              "      <td>8</td>\n",
              "      <td>42,57</td>\n",
              "      <td>Caucsian</td>\n",
              "      <td>31</td>\n",
              "      <td>0</td>\n",
              "      <td>0</td>\n",
              "      <td>0</td>\n",
              "      <td>13.0</td>\n",
              "      <td>24,3356</td>\n",
              "      <td>0,75</td>\n",
              "      <td>1</td>\n",
              "    </tr>\n",
              "    <tr>\n",
              "      <th>...</th>\n",
              "      <td>...</td>\n",
              "      <td>...</td>\n",
              "      <td>...</td>\n",
              "      <td>...</td>\n",
              "      <td>...</td>\n",
              "      <td>...</td>\n",
              "      <td>...</td>\n",
              "      <td>...</td>\n",
              "      <td>...</td>\n",
              "      <td>...</td>\n",
              "      <td>...</td>\n",
              "    </tr>\n",
              "    <tr>\n",
              "      <th>207</th>\n",
              "      <td>3530</td>\n",
              "      <td>31.6</td>\n",
              "      <td>African American</td>\n",
              "      <td>34</td>\n",
              "      <td>2</td>\n",
              "      <td>19</td>\n",
              "      <td>1</td>\n",
              "      <td>10,0</td>\n",
              "      <td>36,668</td>\n",
              "      <td>0,86</td>\n",
              "      <td>1</td>\n",
              "    </tr>\n",
              "    <tr>\n",
              "      <th>208</th>\n",
              "      <td>4110</td>\n",
              "      <td>76.3</td>\n",
              "      <td>African American</td>\n",
              "      <td>22</td>\n",
              "      <td>1</td>\n",
              "      <td>19</td>\n",
              "      <td>1</td>\n",
              "      <td>14.0</td>\n",
              "      <td>33,835</td>\n",
              "      <td>0,83</td>\n",
              "      <td>1</td>\n",
              "    </tr>\n",
              "    <tr>\n",
              "      <th>209</th>\n",
              "      <td>4170</td>\n",
              "      <td>25</td>\n",
              "      <td>African American</td>\n",
              "      <td>30</td>\n",
              "      <td>0</td>\n",
              "      <td>0</td>\n",
              "      <td>0</td>\n",
              "      <td>15,0</td>\n",
              "      <td>28,7316</td>\n",
              "      <td>0,92</td>\n",
              "      <td>1</td>\n",
              "    </tr>\n",
              "    <tr>\n",
              "      <th>210</th>\n",
              "      <td>4180</td>\n",
              "      <td>19.3</td>\n",
              "      <td>Af Am</td>\n",
              "      <td>27</td>\n",
              "      <td>1</td>\n",
              "      <td>25</td>\n",
              "      <td>1</td>\n",
              "      <td>15.0</td>\n",
              "      <td>37,2757</td>\n",
              "      <td>0,91</td>\n",
              "      <td>1</td>\n",
              "    </tr>\n",
              "    <tr>\n",
              "      <th>211</th>\n",
              "      <td>4400</td>\n",
              "      <td>10.1</td>\n",
              "      <td>African American</td>\n",
              "      <td>19</td>\n",
              "      <td>0</td>\n",
              "      <td>0</td>\n",
              "      <td>0</td>\n",
              "      <td>13.0</td>\n",
              "      <td>42,2424</td>\n",
              "      <td>0,91</td>\n",
              "      <td>1</td>\n",
              "    </tr>\n",
              "  </tbody>\n",
              "</table>\n",
              "<p>211 rows × 11 columns</p>\n",
              "</div>\n",
              "      <button class=\"colab-df-convert\" onclick=\"convertToInteractive('df-155c233d-9657-4a5b-ae81-df33932cf95b')\"\n",
              "              title=\"Convert this dataframe to an interactive table.\"\n",
              "              style=\"display:none;\">\n",
              "        \n",
              "  <svg xmlns=\"http://www.w3.org/2000/svg\" height=\"24px\"viewBox=\"0 0 24 24\"\n",
              "       width=\"24px\">\n",
              "    <path d=\"M0 0h24v24H0V0z\" fill=\"none\"/>\n",
              "    <path d=\"M18.56 5.44l.94 2.06.94-2.06 2.06-.94-2.06-.94-.94-2.06-.94 2.06-2.06.94zm-11 1L8.5 8.5l.94-2.06 2.06-.94-2.06-.94L8.5 2.5l-.94 2.06-2.06.94zm10 10l.94 2.06.94-2.06 2.06-.94-2.06-.94-.94-2.06-.94 2.06-2.06.94z\"/><path d=\"M17.41 7.96l-1.37-1.37c-.4-.4-.92-.59-1.43-.59-.52 0-1.04.2-1.43.59L10.3 9.45l-7.72 7.72c-.78.78-.78 2.05 0 2.83L4 21.41c.39.39.9.59 1.41.59.51 0 1.02-.2 1.41-.59l7.78-7.78 2.81-2.81c.8-.78.8-2.07 0-2.86zM5.41 20L4 18.59l7.72-7.72 1.47 1.35L5.41 20z\"/>\n",
              "  </svg>\n",
              "      </button>\n",
              "      \n",
              "  <style>\n",
              "    .colab-df-container {\n",
              "      display:flex;\n",
              "      flex-wrap:wrap;\n",
              "      gap: 12px;\n",
              "    }\n",
              "\n",
              "    .colab-df-convert {\n",
              "      background-color: #E8F0FE;\n",
              "      border: none;\n",
              "      border-radius: 50%;\n",
              "      cursor: pointer;\n",
              "      display: none;\n",
              "      fill: #1967D2;\n",
              "      height: 32px;\n",
              "      padding: 0 0 0 0;\n",
              "      width: 32px;\n",
              "    }\n",
              "\n",
              "    .colab-df-convert:hover {\n",
              "      background-color: #E2EBFA;\n",
              "      box-shadow: 0px 1px 2px rgba(60, 64, 67, 0.3), 0px 1px 3px 1px rgba(60, 64, 67, 0.15);\n",
              "      fill: #174EA6;\n",
              "    }\n",
              "\n",
              "    [theme=dark] .colab-df-convert {\n",
              "      background-color: #3B4455;\n",
              "      fill: #D2E3FC;\n",
              "    }\n",
              "\n",
              "    [theme=dark] .colab-df-convert:hover {\n",
              "      background-color: #434B5C;\n",
              "      box-shadow: 0px 1px 3px 1px rgba(0, 0, 0, 0.15);\n",
              "      filter: drop-shadow(0px 1px 2px rgba(0, 0, 0, 0.3));\n",
              "      fill: #FFFFFF;\n",
              "    }\n",
              "  </style>\n",
              "\n",
              "      <script>\n",
              "        const buttonEl =\n",
              "          document.querySelector('#df-155c233d-9657-4a5b-ae81-df33932cf95b button.colab-df-convert');\n",
              "        buttonEl.style.display =\n",
              "          google.colab.kernel.accessAllowed ? 'block' : 'none';\n",
              "\n",
              "        async function convertToInteractive(key) {\n",
              "          const element = document.querySelector('#df-155c233d-9657-4a5b-ae81-df33932cf95b');\n",
              "          const dataTable =\n",
              "            await google.colab.kernel.invokeFunction('convertToInteractive',\n",
              "                                                     [key], {});\n",
              "          if (!dataTable) return;\n",
              "\n",
              "          const docLinkHtml = 'Like what you see? Visit the ' +\n",
              "            '<a target=\"_blank\" href=https://colab.research.google.com/notebooks/data_table.ipynb>data table notebook</a>'\n",
              "            + ' to learn more about interactive tables.';\n",
              "          element.innerHTML = '';\n",
              "          dataTable['output_type'] = 'display_data';\n",
              "          await google.colab.output.renderOutput(dataTable, element);\n",
              "          const docLink = document.createElement('div');\n",
              "          docLink.innerHTML = docLinkHtml;\n",
              "          element.appendChild(docLink);\n",
              "        }\n",
              "      </script>\n",
              "    </div>\n",
              "  </div>\n",
              "  "
            ]
          },
          "metadata": {},
          "execution_count": 5
        }
      ]
    },
    {
      "cell_type": "code",
      "source": [
        "# To count missing values\n",
        "dataset.isnull().sum()\n",
        "# Luckily we don't have any missing values"
      ],
      "metadata": {
        "colab": {
          "base_uri": "https://localhost:8080/"
        },
        "id": "dcGD8aIe4v53",
        "outputId": "5288cd63-56c4-4adf-e868-d7f041b6bc59"
      },
      "execution_count": null,
      "outputs": [
        {
          "output_type": "execute_result",
          "data": {
            "text/plain": [
              "Id          0\n",
              "Estradl     0\n",
              "Ethnic      0\n",
              "Entage      0\n",
              "Numchild    0\n",
              "Agefbo      0\n",
              "Anykids     0\n",
              "Agemenar    0\n",
              "BMI         0\n",
              "WHR         0\n",
              "Area        0\n",
              "dtype: int64"
            ]
          },
          "metadata": {},
          "execution_count": 6
        }
      ]
    },
    {
      "cell_type": "markdown",
      "metadata": {
        "id": "jTYu21CxGrhu"
      },
      "source": [
        "**Exercise:** Show a random selection of some records from the dataset. This will help you to perform a preliminary visual inspection to confirm that the data has been loaded correctly. If you identify any formatting problems that need to be corrected, please do so."
      ]
    },
    {
      "cell_type": "code",
      "metadata": {
        "id": "-tXKivwqGm62",
        "colab": {
          "base_uri": "https://localhost:8080/",
          "height": 363
        },
        "outputId": "5b7b4dcb-c479-47fe-a238-b13c7f842111"
      },
      "source": [
        "dataset.sample(10)"
      ],
      "execution_count": null,
      "outputs": [
        {
          "output_type": "execute_result",
          "data": {
            "text/plain": [
              "       Id Estradl            Ethnic Entage  Numchild  Agefbo  Anykids  \\\n",
              "16     31    32.1         Caucasian     19         0       0        0   \n",
              "194   220    47.1  African American     29         2      22        1   \n",
              "74   3230    26.6  African American     34         2      29        1   \n",
              "164  4390    52.3  African American     27         0       0        0   \n",
              "11     16    38.6         Caucasian     24         0       0        0   \n",
              "29     57      50         Caucasian     30         0       0        0   \n",
              "92   5002    34,2  African American     28         0       0        0   \n",
              "174  5007    33.3  African American     27         0       0        0   \n",
              "187  5036    40.9  African American     31         0       0        0   \n",
              "150   210   39.93  African American     24         9      99        9   \n",
              "\n",
              "    Agemenar      BMI   WHR  Area  \n",
              "16      15.0  20,2279  0,66     1  \n",
              "194     11.0  29,5573  0,83     0  \n",
              "74      14.0  20,6484  0,75     0  \n",
              "164     11.5  27,8085  0,69     0  \n",
              "11      11.0  19,3962  0,75     0  \n",
              "29      13.0  21,0797  0,73     0  \n",
              "92      12.0  22,0469   0,7     1  \n",
              "174     12.0  30,9726  0,87     1  \n",
              "187     13.0  33,6304  0,88     1  \n",
              "150       99  33,3769  0,68     1  "
            ],
            "text/html": [
              "\n",
              "  <div id=\"df-a4a3b02c-d4d2-4ff8-92e4-0555b4715f17\">\n",
              "    <div class=\"colab-df-container\">\n",
              "      <div>\n",
              "<style scoped>\n",
              "    .dataframe tbody tr th:only-of-type {\n",
              "        vertical-align: middle;\n",
              "    }\n",
              "\n",
              "    .dataframe tbody tr th {\n",
              "        vertical-align: top;\n",
              "    }\n",
              "\n",
              "    .dataframe thead th {\n",
              "        text-align: right;\n",
              "    }\n",
              "</style>\n",
              "<table border=\"1\" class=\"dataframe\">\n",
              "  <thead>\n",
              "    <tr style=\"text-align: right;\">\n",
              "      <th></th>\n",
              "      <th>Id</th>\n",
              "      <th>Estradl</th>\n",
              "      <th>Ethnic</th>\n",
              "      <th>Entage</th>\n",
              "      <th>Numchild</th>\n",
              "      <th>Agefbo</th>\n",
              "      <th>Anykids</th>\n",
              "      <th>Agemenar</th>\n",
              "      <th>BMI</th>\n",
              "      <th>WHR</th>\n",
              "      <th>Area</th>\n",
              "    </tr>\n",
              "  </thead>\n",
              "  <tbody>\n",
              "    <tr>\n",
              "      <th>16</th>\n",
              "      <td>31</td>\n",
              "      <td>32.1</td>\n",
              "      <td>Caucasian</td>\n",
              "      <td>19</td>\n",
              "      <td>0</td>\n",
              "      <td>0</td>\n",
              "      <td>0</td>\n",
              "      <td>15.0</td>\n",
              "      <td>20,2279</td>\n",
              "      <td>0,66</td>\n",
              "      <td>1</td>\n",
              "    </tr>\n",
              "    <tr>\n",
              "      <th>194</th>\n",
              "      <td>220</td>\n",
              "      <td>47.1</td>\n",
              "      <td>African American</td>\n",
              "      <td>29</td>\n",
              "      <td>2</td>\n",
              "      <td>22</td>\n",
              "      <td>1</td>\n",
              "      <td>11.0</td>\n",
              "      <td>29,5573</td>\n",
              "      <td>0,83</td>\n",
              "      <td>0</td>\n",
              "    </tr>\n",
              "    <tr>\n",
              "      <th>74</th>\n",
              "      <td>3230</td>\n",
              "      <td>26.6</td>\n",
              "      <td>African American</td>\n",
              "      <td>34</td>\n",
              "      <td>2</td>\n",
              "      <td>29</td>\n",
              "      <td>1</td>\n",
              "      <td>14.0</td>\n",
              "      <td>20,6484</td>\n",
              "      <td>0,75</td>\n",
              "      <td>0</td>\n",
              "    </tr>\n",
              "    <tr>\n",
              "      <th>164</th>\n",
              "      <td>4390</td>\n",
              "      <td>52.3</td>\n",
              "      <td>African American</td>\n",
              "      <td>27</td>\n",
              "      <td>0</td>\n",
              "      <td>0</td>\n",
              "      <td>0</td>\n",
              "      <td>11.5</td>\n",
              "      <td>27,8085</td>\n",
              "      <td>0,69</td>\n",
              "      <td>0</td>\n",
              "    </tr>\n",
              "    <tr>\n",
              "      <th>11</th>\n",
              "      <td>16</td>\n",
              "      <td>38.6</td>\n",
              "      <td>Caucasian</td>\n",
              "      <td>24</td>\n",
              "      <td>0</td>\n",
              "      <td>0</td>\n",
              "      <td>0</td>\n",
              "      <td>11.0</td>\n",
              "      <td>19,3962</td>\n",
              "      <td>0,75</td>\n",
              "      <td>0</td>\n",
              "    </tr>\n",
              "    <tr>\n",
              "      <th>29</th>\n",
              "      <td>57</td>\n",
              "      <td>50</td>\n",
              "      <td>Caucasian</td>\n",
              "      <td>30</td>\n",
              "      <td>0</td>\n",
              "      <td>0</td>\n",
              "      <td>0</td>\n",
              "      <td>13.0</td>\n",
              "      <td>21,0797</td>\n",
              "      <td>0,73</td>\n",
              "      <td>0</td>\n",
              "    </tr>\n",
              "    <tr>\n",
              "      <th>92</th>\n",
              "      <td>5002</td>\n",
              "      <td>34,2</td>\n",
              "      <td>African American</td>\n",
              "      <td>28</td>\n",
              "      <td>0</td>\n",
              "      <td>0</td>\n",
              "      <td>0</td>\n",
              "      <td>12.0</td>\n",
              "      <td>22,0469</td>\n",
              "      <td>0,7</td>\n",
              "      <td>1</td>\n",
              "    </tr>\n",
              "    <tr>\n",
              "      <th>174</th>\n",
              "      <td>5007</td>\n",
              "      <td>33.3</td>\n",
              "      <td>African American</td>\n",
              "      <td>27</td>\n",
              "      <td>0</td>\n",
              "      <td>0</td>\n",
              "      <td>0</td>\n",
              "      <td>12.0</td>\n",
              "      <td>30,9726</td>\n",
              "      <td>0,87</td>\n",
              "      <td>1</td>\n",
              "    </tr>\n",
              "    <tr>\n",
              "      <th>187</th>\n",
              "      <td>5036</td>\n",
              "      <td>40.9</td>\n",
              "      <td>African American</td>\n",
              "      <td>31</td>\n",
              "      <td>0</td>\n",
              "      <td>0</td>\n",
              "      <td>0</td>\n",
              "      <td>13.0</td>\n",
              "      <td>33,6304</td>\n",
              "      <td>0,88</td>\n",
              "      <td>1</td>\n",
              "    </tr>\n",
              "    <tr>\n",
              "      <th>150</th>\n",
              "      <td>210</td>\n",
              "      <td>39.93</td>\n",
              "      <td>African American</td>\n",
              "      <td>24</td>\n",
              "      <td>9</td>\n",
              "      <td>99</td>\n",
              "      <td>9</td>\n",
              "      <td>99</td>\n",
              "      <td>33,3769</td>\n",
              "      <td>0,68</td>\n",
              "      <td>1</td>\n",
              "    </tr>\n",
              "  </tbody>\n",
              "</table>\n",
              "</div>\n",
              "      <button class=\"colab-df-convert\" onclick=\"convertToInteractive('df-a4a3b02c-d4d2-4ff8-92e4-0555b4715f17')\"\n",
              "              title=\"Convert this dataframe to an interactive table.\"\n",
              "              style=\"display:none;\">\n",
              "        \n",
              "  <svg xmlns=\"http://www.w3.org/2000/svg\" height=\"24px\"viewBox=\"0 0 24 24\"\n",
              "       width=\"24px\">\n",
              "    <path d=\"M0 0h24v24H0V0z\" fill=\"none\"/>\n",
              "    <path d=\"M18.56 5.44l.94 2.06.94-2.06 2.06-.94-2.06-.94-.94-2.06-.94 2.06-2.06.94zm-11 1L8.5 8.5l.94-2.06 2.06-.94-2.06-.94L8.5 2.5l-.94 2.06-2.06.94zm10 10l.94 2.06.94-2.06 2.06-.94-2.06-.94-.94-2.06-.94 2.06-2.06.94z\"/><path d=\"M17.41 7.96l-1.37-1.37c-.4-.4-.92-.59-1.43-.59-.52 0-1.04.2-1.43.59L10.3 9.45l-7.72 7.72c-.78.78-.78 2.05 0 2.83L4 21.41c.39.39.9.59 1.41.59.51 0 1.02-.2 1.41-.59l7.78-7.78 2.81-2.81c.8-.78.8-2.07 0-2.86zM5.41 20L4 18.59l7.72-7.72 1.47 1.35L5.41 20z\"/>\n",
              "  </svg>\n",
              "      </button>\n",
              "      \n",
              "  <style>\n",
              "    .colab-df-container {\n",
              "      display:flex;\n",
              "      flex-wrap:wrap;\n",
              "      gap: 12px;\n",
              "    }\n",
              "\n",
              "    .colab-df-convert {\n",
              "      background-color: #E8F0FE;\n",
              "      border: none;\n",
              "      border-radius: 50%;\n",
              "      cursor: pointer;\n",
              "      display: none;\n",
              "      fill: #1967D2;\n",
              "      height: 32px;\n",
              "      padding: 0 0 0 0;\n",
              "      width: 32px;\n",
              "    }\n",
              "\n",
              "    .colab-df-convert:hover {\n",
              "      background-color: #E2EBFA;\n",
              "      box-shadow: 0px 1px 2px rgba(60, 64, 67, 0.3), 0px 1px 3px 1px rgba(60, 64, 67, 0.15);\n",
              "      fill: #174EA6;\n",
              "    }\n",
              "\n",
              "    [theme=dark] .colab-df-convert {\n",
              "      background-color: #3B4455;\n",
              "      fill: #D2E3FC;\n",
              "    }\n",
              "\n",
              "    [theme=dark] .colab-df-convert:hover {\n",
              "      background-color: #434B5C;\n",
              "      box-shadow: 0px 1px 3px 1px rgba(0, 0, 0, 0.15);\n",
              "      filter: drop-shadow(0px 1px 2px rgba(0, 0, 0, 0.3));\n",
              "      fill: #FFFFFF;\n",
              "    }\n",
              "  </style>\n",
              "\n",
              "      <script>\n",
              "        const buttonEl =\n",
              "          document.querySelector('#df-a4a3b02c-d4d2-4ff8-92e4-0555b4715f17 button.colab-df-convert');\n",
              "        buttonEl.style.display =\n",
              "          google.colab.kernel.accessAllowed ? 'block' : 'none';\n",
              "\n",
              "        async function convertToInteractive(key) {\n",
              "          const element = document.querySelector('#df-a4a3b02c-d4d2-4ff8-92e4-0555b4715f17');\n",
              "          const dataTable =\n",
              "            await google.colab.kernel.invokeFunction('convertToInteractive',\n",
              "                                                     [key], {});\n",
              "          if (!dataTable) return;\n",
              "\n",
              "          const docLinkHtml = 'Like what you see? Visit the ' +\n",
              "            '<a target=\"_blank\" href=https://colab.research.google.com/notebooks/data_table.ipynb>data table notebook</a>'\n",
              "            + ' to learn more about interactive tables.';\n",
              "          element.innerHTML = '';\n",
              "          dataTable['output_type'] = 'display_data';\n",
              "          await google.colab.output.renderOutput(dataTable, element);\n",
              "          const docLink = document.createElement('div');\n",
              "          docLink.innerHTML = docLinkHtml;\n",
              "          element.appendChild(docLink);\n",
              "        }\n",
              "      </script>\n",
              "    </div>\n",
              "  </div>\n",
              "  "
            ]
          },
          "metadata": {},
          "execution_count": 7
        }
      ]
    },
    {
      "cell_type": "code",
      "source": [
        "dataset.info()"
      ],
      "metadata": {
        "colab": {
          "base_uri": "https://localhost:8080/"
        },
        "id": "j0eaVfOb8wwm",
        "outputId": "cf37b3d1-95cd-4844-d78b-028a97dd5a21"
      },
      "execution_count": null,
      "outputs": [
        {
          "output_type": "stream",
          "name": "stdout",
          "text": [
            "<class 'pandas.core.frame.DataFrame'>\n",
            "Int64Index: 211 entries, 1 to 211\n",
            "Data columns (total 11 columns):\n",
            " #   Column    Non-Null Count  Dtype \n",
            "---  ------    --------------  ----- \n",
            " 0   Id        211 non-null    int64 \n",
            " 1   Estradl   211 non-null    object\n",
            " 2   Ethnic    211 non-null    object\n",
            " 3   Entage    211 non-null    object\n",
            " 4   Numchild  211 non-null    int64 \n",
            " 5   Agefbo    211 non-null    int64 \n",
            " 6   Anykids   211 non-null    int64 \n",
            " 7   Agemenar  211 non-null    object\n",
            " 8   BMI       211 non-null    object\n",
            " 9   WHR       211 non-null    object\n",
            " 10  Area      211 non-null    int64 \n",
            "dtypes: int64(5), object(6)\n",
            "memory usage: 19.8+ KB\n"
          ]
        }
      ]
    },
    {
      "cell_type": "code",
      "source": [
        "dataset.describe()"
      ],
      "metadata": {
        "colab": {
          "base_uri": "https://localhost:8080/",
          "height": 300
        },
        "id": "hJ4eWOpoJkdf",
        "outputId": "f98a3f92-a05f-425a-ca75-21bf01e18ad1"
      },
      "execution_count": 23,
      "outputs": [
        {
          "output_type": "execute_result",
          "data": {
            "text/plain": [
              "                Id    Numchild      Agefbo     Anykids        Area\n",
              "count   211.000000  211.000000  211.000000  211.000000  211.000000\n",
              "mean   2463.995261    0.720379    9.099526    0.516588    0.682464\n",
              "std    2050.071930    1.648235   18.485633    1.435423    0.466625\n",
              "min       2.000000    0.000000    0.000000    0.000000    0.000000\n",
              "25%      60.500000    0.000000    0.000000    0.000000    0.000000\n",
              "50%    3260.000000    0.000000    0.000000    0.000000    1.000000\n",
              "75%    4265.000000    1.000000   18.000000    1.000000    1.000000\n",
              "max    5039.000000    9.000000   99.000000    9.000000    1.000000"
            ],
            "text/html": [
              "\n",
              "  <div id=\"df-ab08dd37-31e1-4be0-8b33-9f703225fbc8\">\n",
              "    <div class=\"colab-df-container\">\n",
              "      <div>\n",
              "<style scoped>\n",
              "    .dataframe tbody tr th:only-of-type {\n",
              "        vertical-align: middle;\n",
              "    }\n",
              "\n",
              "    .dataframe tbody tr th {\n",
              "        vertical-align: top;\n",
              "    }\n",
              "\n",
              "    .dataframe thead th {\n",
              "        text-align: right;\n",
              "    }\n",
              "</style>\n",
              "<table border=\"1\" class=\"dataframe\">\n",
              "  <thead>\n",
              "    <tr style=\"text-align: right;\">\n",
              "      <th></th>\n",
              "      <th>Id</th>\n",
              "      <th>Numchild</th>\n",
              "      <th>Agefbo</th>\n",
              "      <th>Anykids</th>\n",
              "      <th>Area</th>\n",
              "    </tr>\n",
              "  </thead>\n",
              "  <tbody>\n",
              "    <tr>\n",
              "      <th>count</th>\n",
              "      <td>211.000000</td>\n",
              "      <td>211.000000</td>\n",
              "      <td>211.000000</td>\n",
              "      <td>211.000000</td>\n",
              "      <td>211.000000</td>\n",
              "    </tr>\n",
              "    <tr>\n",
              "      <th>mean</th>\n",
              "      <td>2463.995261</td>\n",
              "      <td>0.720379</td>\n",
              "      <td>9.099526</td>\n",
              "      <td>0.516588</td>\n",
              "      <td>0.682464</td>\n",
              "    </tr>\n",
              "    <tr>\n",
              "      <th>std</th>\n",
              "      <td>2050.071930</td>\n",
              "      <td>1.648235</td>\n",
              "      <td>18.485633</td>\n",
              "      <td>1.435423</td>\n",
              "      <td>0.466625</td>\n",
              "    </tr>\n",
              "    <tr>\n",
              "      <th>min</th>\n",
              "      <td>2.000000</td>\n",
              "      <td>0.000000</td>\n",
              "      <td>0.000000</td>\n",
              "      <td>0.000000</td>\n",
              "      <td>0.000000</td>\n",
              "    </tr>\n",
              "    <tr>\n",
              "      <th>25%</th>\n",
              "      <td>60.500000</td>\n",
              "      <td>0.000000</td>\n",
              "      <td>0.000000</td>\n",
              "      <td>0.000000</td>\n",
              "      <td>0.000000</td>\n",
              "    </tr>\n",
              "    <tr>\n",
              "      <th>50%</th>\n",
              "      <td>3260.000000</td>\n",
              "      <td>0.000000</td>\n",
              "      <td>0.000000</td>\n",
              "      <td>0.000000</td>\n",
              "      <td>1.000000</td>\n",
              "    </tr>\n",
              "    <tr>\n",
              "      <th>75%</th>\n",
              "      <td>4265.000000</td>\n",
              "      <td>1.000000</td>\n",
              "      <td>18.000000</td>\n",
              "      <td>1.000000</td>\n",
              "      <td>1.000000</td>\n",
              "    </tr>\n",
              "    <tr>\n",
              "      <th>max</th>\n",
              "      <td>5039.000000</td>\n",
              "      <td>9.000000</td>\n",
              "      <td>99.000000</td>\n",
              "      <td>9.000000</td>\n",
              "      <td>1.000000</td>\n",
              "    </tr>\n",
              "  </tbody>\n",
              "</table>\n",
              "</div>\n",
              "      <button class=\"colab-df-convert\" onclick=\"convertToInteractive('df-ab08dd37-31e1-4be0-8b33-9f703225fbc8')\"\n",
              "              title=\"Convert this dataframe to an interactive table.\"\n",
              "              style=\"display:none;\">\n",
              "        \n",
              "  <svg xmlns=\"http://www.w3.org/2000/svg\" height=\"24px\"viewBox=\"0 0 24 24\"\n",
              "       width=\"24px\">\n",
              "    <path d=\"M0 0h24v24H0V0z\" fill=\"none\"/>\n",
              "    <path d=\"M18.56 5.44l.94 2.06.94-2.06 2.06-.94-2.06-.94-.94-2.06-.94 2.06-2.06.94zm-11 1L8.5 8.5l.94-2.06 2.06-.94-2.06-.94L8.5 2.5l-.94 2.06-2.06.94zm10 10l.94 2.06.94-2.06 2.06-.94-2.06-.94-.94-2.06-.94 2.06-2.06.94z\"/><path d=\"M17.41 7.96l-1.37-1.37c-.4-.4-.92-.59-1.43-.59-.52 0-1.04.2-1.43.59L10.3 9.45l-7.72 7.72c-.78.78-.78 2.05 0 2.83L4 21.41c.39.39.9.59 1.41.59.51 0 1.02-.2 1.41-.59l7.78-7.78 2.81-2.81c.8-.78.8-2.07 0-2.86zM5.41 20L4 18.59l7.72-7.72 1.47 1.35L5.41 20z\"/>\n",
              "  </svg>\n",
              "      </button>\n",
              "      \n",
              "  <style>\n",
              "    .colab-df-container {\n",
              "      display:flex;\n",
              "      flex-wrap:wrap;\n",
              "      gap: 12px;\n",
              "    }\n",
              "\n",
              "    .colab-df-convert {\n",
              "      background-color: #E8F0FE;\n",
              "      border: none;\n",
              "      border-radius: 50%;\n",
              "      cursor: pointer;\n",
              "      display: none;\n",
              "      fill: #1967D2;\n",
              "      height: 32px;\n",
              "      padding: 0 0 0 0;\n",
              "      width: 32px;\n",
              "    }\n",
              "\n",
              "    .colab-df-convert:hover {\n",
              "      background-color: #E2EBFA;\n",
              "      box-shadow: 0px 1px 2px rgba(60, 64, 67, 0.3), 0px 1px 3px 1px rgba(60, 64, 67, 0.15);\n",
              "      fill: #174EA6;\n",
              "    }\n",
              "\n",
              "    [theme=dark] .colab-df-convert {\n",
              "      background-color: #3B4455;\n",
              "      fill: #D2E3FC;\n",
              "    }\n",
              "\n",
              "    [theme=dark] .colab-df-convert:hover {\n",
              "      background-color: #434B5C;\n",
              "      box-shadow: 0px 1px 3px 1px rgba(0, 0, 0, 0.15);\n",
              "      filter: drop-shadow(0px 1px 2px rgba(0, 0, 0, 0.3));\n",
              "      fill: #FFFFFF;\n",
              "    }\n",
              "  </style>\n",
              "\n",
              "      <script>\n",
              "        const buttonEl =\n",
              "          document.querySelector('#df-ab08dd37-31e1-4be0-8b33-9f703225fbc8 button.colab-df-convert');\n",
              "        buttonEl.style.display =\n",
              "          google.colab.kernel.accessAllowed ? 'block' : 'none';\n",
              "\n",
              "        async function convertToInteractive(key) {\n",
              "          const element = document.querySelector('#df-ab08dd37-31e1-4be0-8b33-9f703225fbc8');\n",
              "          const dataTable =\n",
              "            await google.colab.kernel.invokeFunction('convertToInteractive',\n",
              "                                                     [key], {});\n",
              "          if (!dataTable) return;\n",
              "\n",
              "          const docLinkHtml = 'Like what you see? Visit the ' +\n",
              "            '<a target=\"_blank\" href=https://colab.research.google.com/notebooks/data_table.ipynb>data table notebook</a>'\n",
              "            + ' to learn more about interactive tables.';\n",
              "          element.innerHTML = '';\n",
              "          dataTable['output_type'] = 'display_data';\n",
              "          await google.colab.output.renderOutput(dataTable, element);\n",
              "          const docLink = document.createElement('div');\n",
              "          docLink.innerHTML = docLinkHtml;\n",
              "          element.appendChild(docLink);\n",
              "        }\n",
              "      </script>\n",
              "    </div>\n",
              "  </div>\n",
              "  "
            ]
          },
          "metadata": {},
          "execution_count": 23
        }
      ]
    },
    {
      "cell_type": "code",
      "source": [
        "# I can find more than one columns like 'Estradl', 'Entage'.'Agemenar','BMI','WHR' With datatype object and they need to convert in to Int datatype\n",
        "\n",
        "\n",
        "\n",
        "# Save the dataframe to a new CSV file\n",
        "dataset.to_csv('estradiol_clean.csv', index=False)\n",
        "\n",
        "estradiol_clean = pd.read_csv('estradiol_clean.csv')\n",
        "\n",
        "estradiol_clean.head()\n"
      ],
      "metadata": {
        "colab": {
          "base_uri": "https://localhost:8080/",
          "height": 206
        },
        "id": "vcym3uLT8cd5",
        "outputId": "52b36c14-25a4-4b8f-b9fb-82e55a9b7e17"
      },
      "execution_count": 43,
      "outputs": [
        {
          "output_type": "execute_result",
          "data": {
            "text/plain": [
              "   Id Estradl      Ethnic Entage  Numchild  Agefbo  Anykids Agemenar      BMI  \\\n",
              "0   2      94   Caucasian     30         0       0        0     11,0  18,9038   \n",
              "1   2     7.7   Caucasian     23         0       0        0     15.0  20,4386   \n",
              "2   3   20.23    Caucsian     21         0       0        0     13.0  22,2578   \n",
              "3   6   41.37   Caucasian     33         0       0        0     14.0  20,5265   \n",
              "4   8   42,57    Caucsian     31         0       0        0     13.0  24,3356   \n",
              "\n",
              "    WHR  Area  \n",
              "0   0,7     0  \n",
              "1   0,7     0  \n",
              "2  0,75     1  \n",
              "3  0,73     1  \n",
              "4  0,75     1  "
            ],
            "text/html": [
              "\n",
              "  <div id=\"df-b75b4eac-45cc-422a-996c-37a7b0990ffd\">\n",
              "    <div class=\"colab-df-container\">\n",
              "      <div>\n",
              "<style scoped>\n",
              "    .dataframe tbody tr th:only-of-type {\n",
              "        vertical-align: middle;\n",
              "    }\n",
              "\n",
              "    .dataframe tbody tr th {\n",
              "        vertical-align: top;\n",
              "    }\n",
              "\n",
              "    .dataframe thead th {\n",
              "        text-align: right;\n",
              "    }\n",
              "</style>\n",
              "<table border=\"1\" class=\"dataframe\">\n",
              "  <thead>\n",
              "    <tr style=\"text-align: right;\">\n",
              "      <th></th>\n",
              "      <th>Id</th>\n",
              "      <th>Estradl</th>\n",
              "      <th>Ethnic</th>\n",
              "      <th>Entage</th>\n",
              "      <th>Numchild</th>\n",
              "      <th>Agefbo</th>\n",
              "      <th>Anykids</th>\n",
              "      <th>Agemenar</th>\n",
              "      <th>BMI</th>\n",
              "      <th>WHR</th>\n",
              "      <th>Area</th>\n",
              "    </tr>\n",
              "  </thead>\n",
              "  <tbody>\n",
              "    <tr>\n",
              "      <th>0</th>\n",
              "      <td>2</td>\n",
              "      <td>94</td>\n",
              "      <td>Caucasian</td>\n",
              "      <td>30</td>\n",
              "      <td>0</td>\n",
              "      <td>0</td>\n",
              "      <td>0</td>\n",
              "      <td>11,0</td>\n",
              "      <td>18,9038</td>\n",
              "      <td>0,7</td>\n",
              "      <td>0</td>\n",
              "    </tr>\n",
              "    <tr>\n",
              "      <th>1</th>\n",
              "      <td>2</td>\n",
              "      <td>7.7</td>\n",
              "      <td>Caucasian</td>\n",
              "      <td>23</td>\n",
              "      <td>0</td>\n",
              "      <td>0</td>\n",
              "      <td>0</td>\n",
              "      <td>15.0</td>\n",
              "      <td>20,4386</td>\n",
              "      <td>0,7</td>\n",
              "      <td>0</td>\n",
              "    </tr>\n",
              "    <tr>\n",
              "      <th>2</th>\n",
              "      <td>3</td>\n",
              "      <td>20.23</td>\n",
              "      <td>Caucsian</td>\n",
              "      <td>21</td>\n",
              "      <td>0</td>\n",
              "      <td>0</td>\n",
              "      <td>0</td>\n",
              "      <td>13.0</td>\n",
              "      <td>22,2578</td>\n",
              "      <td>0,75</td>\n",
              "      <td>1</td>\n",
              "    </tr>\n",
              "    <tr>\n",
              "      <th>3</th>\n",
              "      <td>6</td>\n",
              "      <td>41.37</td>\n",
              "      <td>Caucasian</td>\n",
              "      <td>33</td>\n",
              "      <td>0</td>\n",
              "      <td>0</td>\n",
              "      <td>0</td>\n",
              "      <td>14.0</td>\n",
              "      <td>20,5265</td>\n",
              "      <td>0,73</td>\n",
              "      <td>1</td>\n",
              "    </tr>\n",
              "    <tr>\n",
              "      <th>4</th>\n",
              "      <td>8</td>\n",
              "      <td>42,57</td>\n",
              "      <td>Caucsian</td>\n",
              "      <td>31</td>\n",
              "      <td>0</td>\n",
              "      <td>0</td>\n",
              "      <td>0</td>\n",
              "      <td>13.0</td>\n",
              "      <td>24,3356</td>\n",
              "      <td>0,75</td>\n",
              "      <td>1</td>\n",
              "    </tr>\n",
              "  </tbody>\n",
              "</table>\n",
              "</div>\n",
              "      <button class=\"colab-df-convert\" onclick=\"convertToInteractive('df-b75b4eac-45cc-422a-996c-37a7b0990ffd')\"\n",
              "              title=\"Convert this dataframe to an interactive table.\"\n",
              "              style=\"display:none;\">\n",
              "        \n",
              "  <svg xmlns=\"http://www.w3.org/2000/svg\" height=\"24px\"viewBox=\"0 0 24 24\"\n",
              "       width=\"24px\">\n",
              "    <path d=\"M0 0h24v24H0V0z\" fill=\"none\"/>\n",
              "    <path d=\"M18.56 5.44l.94 2.06.94-2.06 2.06-.94-2.06-.94-.94-2.06-.94 2.06-2.06.94zm-11 1L8.5 8.5l.94-2.06 2.06-.94-2.06-.94L8.5 2.5l-.94 2.06-2.06.94zm10 10l.94 2.06.94-2.06 2.06-.94-2.06-.94-.94-2.06-.94 2.06-2.06.94z\"/><path d=\"M17.41 7.96l-1.37-1.37c-.4-.4-.92-.59-1.43-.59-.52 0-1.04.2-1.43.59L10.3 9.45l-7.72 7.72c-.78.78-.78 2.05 0 2.83L4 21.41c.39.39.9.59 1.41.59.51 0 1.02-.2 1.41-.59l7.78-7.78 2.81-2.81c.8-.78.8-2.07 0-2.86zM5.41 20L4 18.59l7.72-7.72 1.47 1.35L5.41 20z\"/>\n",
              "  </svg>\n",
              "      </button>\n",
              "      \n",
              "  <style>\n",
              "    .colab-df-container {\n",
              "      display:flex;\n",
              "      flex-wrap:wrap;\n",
              "      gap: 12px;\n",
              "    }\n",
              "\n",
              "    .colab-df-convert {\n",
              "      background-color: #E8F0FE;\n",
              "      border: none;\n",
              "      border-radius: 50%;\n",
              "      cursor: pointer;\n",
              "      display: none;\n",
              "      fill: #1967D2;\n",
              "      height: 32px;\n",
              "      padding: 0 0 0 0;\n",
              "      width: 32px;\n",
              "    }\n",
              "\n",
              "    .colab-df-convert:hover {\n",
              "      background-color: #E2EBFA;\n",
              "      box-shadow: 0px 1px 2px rgba(60, 64, 67, 0.3), 0px 1px 3px 1px rgba(60, 64, 67, 0.15);\n",
              "      fill: #174EA6;\n",
              "    }\n",
              "\n",
              "    [theme=dark] .colab-df-convert {\n",
              "      background-color: #3B4455;\n",
              "      fill: #D2E3FC;\n",
              "    }\n",
              "\n",
              "    [theme=dark] .colab-df-convert:hover {\n",
              "      background-color: #434B5C;\n",
              "      box-shadow: 0px 1px 3px 1px rgba(0, 0, 0, 0.15);\n",
              "      filter: drop-shadow(0px 1px 2px rgba(0, 0, 0, 0.3));\n",
              "      fill: #FFFFFF;\n",
              "    }\n",
              "  </style>\n",
              "\n",
              "      <script>\n",
              "        const buttonEl =\n",
              "          document.querySelector('#df-b75b4eac-45cc-422a-996c-37a7b0990ffd button.colab-df-convert');\n",
              "        buttonEl.style.display =\n",
              "          google.colab.kernel.accessAllowed ? 'block' : 'none';\n",
              "\n",
              "        async function convertToInteractive(key) {\n",
              "          const element = document.querySelector('#df-b75b4eac-45cc-422a-996c-37a7b0990ffd');\n",
              "          const dataTable =\n",
              "            await google.colab.kernel.invokeFunction('convertToInteractive',\n",
              "                                                     [key], {});\n",
              "          if (!dataTable) return;\n",
              "\n",
              "          const docLinkHtml = 'Like what you see? Visit the ' +\n",
              "            '<a target=\"_blank\" href=https://colab.research.google.com/notebooks/data_table.ipynb>data table notebook</a>'\n",
              "            + ' to learn more about interactive tables.';\n",
              "          element.innerHTML = '';\n",
              "          dataTable['output_type'] = 'display_data';\n",
              "          await google.colab.output.renderOutput(dataTable, element);\n",
              "          const docLink = document.createElement('div');\n",
              "          docLink.innerHTML = docLinkHtml;\n",
              "          element.appendChild(docLink);\n",
              "        }\n",
              "      </script>\n",
              "    </div>\n",
              "  </div>\n",
              "  "
            ]
          },
          "metadata": {},
          "execution_count": 43
        }
      ]
    },
    {
      "cell_type": "code",
      "source": [
        "print(estradiol_clean.columns)"
      ],
      "metadata": {
        "colab": {
          "base_uri": "https://localhost:8080/"
        },
        "id": "-nKiI48ODm2f",
        "outputId": "b966063f-3a3f-4580-c2c9-0393191b48a5"
      },
      "execution_count": 44,
      "outputs": [
        {
          "output_type": "stream",
          "name": "stdout",
          "text": [
            "Index(['Id', 'Estradl', 'Ethnic', 'Entage', 'Numchild', 'Agefbo', 'Anykids',\n",
            "       'Agemenar', 'BMI', 'WHR', 'Area'],\n",
            "      dtype='object')\n"
          ]
        }
      ]
    },
    {
      "cell_type": "code",
      "source": [
        "columns_to_convert = ['Estradl', 'Entage', 'Agemenar', 'BMI', 'WHR']\n",
        "\n",
        "# Remove commas and convert the columns to numeric type(float)\n",
        "for column in columns_to_convert:\n",
        "    estradiol_clean[column] = estradiol_clean[column].str.replace(',', '').astype(float)\n",
        "\n",
        "# Verify the data types after conversion\n",
        "print(estradiol_clean.dtypes)\n"
      ],
      "metadata": {
        "colab": {
          "base_uri": "https://localhost:8080/"
        },
        "id": "k1oLkST3IoQZ",
        "outputId": "a48f354f-0f7b-451b-fed4-894561dd6e7b"
      },
      "execution_count": 45,
      "outputs": [
        {
          "output_type": "stream",
          "name": "stdout",
          "text": [
            "Id            int64\n",
            "Estradl     float64\n",
            "Ethnic       object\n",
            "Entage      float64\n",
            "Numchild      int64\n",
            "Agefbo        int64\n",
            "Anykids       int64\n",
            "Agemenar    float64\n",
            "BMI         float64\n",
            "WHR         float64\n",
            "Area          int64\n",
            "dtype: object\n"
          ]
        }
      ]
    },
    {
      "cell_type": "markdown",
      "metadata": {
        "id": "Nuu1y3anRA3G"
      },
      "source": [
        "**Exercise:** Determine the mean, median and standard deviation for the descriptors of a quantitative nature."
      ]
    },
    {
      "cell_type": "code",
      "source": [
        "estradiol_clean.describe()"
      ],
      "metadata": {
        "colab": {
          "base_uri": "https://localhost:8080/",
          "height": 300
        },
        "id": "4RDUGK3D3UYV",
        "outputId": "fd1a79c9-1f25-44bb-e7b6-1c6160f68985"
      },
      "execution_count": 46,
      "outputs": [
        {
          "output_type": "execute_result",
          "data": {
            "text/plain": [
              "                Id      Estradl      Entage    Numchild      Agefbo  \\\n",
              "count   211.000000   211.000000  211.000000  211.000000  211.000000   \n",
              "mean   2463.995261   189.824218   26.436019    0.720379    9.099526   \n",
              "std    2050.071930   834.601483    9.146919    1.648235   18.485633   \n",
              "min       2.000000     2.200000   11.000000    0.000000    0.000000   \n",
              "25%      60.500000    23.950000   21.000000    0.000000    0.000000   \n",
              "50%    3260.000000    39.000000   26.000000    0.000000    0.000000   \n",
              "75%    4265.000000    57.030000   31.000000    1.000000   18.000000   \n",
              "max    5039.000000  7857.000000  130.000000    9.000000   99.000000   \n",
              "\n",
              "          Anykids    Agemenar            BMI         WHR        Area  \n",
              "count  211.000000  211.000000     211.000000  211.000000  211.000000  \n",
              "mean     0.516588   30.789100  238658.815166   69.644550    0.682464  \n",
              "std      1.435423   41.226342   82255.232455   21.231192    0.466625  \n",
              "min      0.000000    9.000000    1925.000000    7.000000    0.000000  \n",
              "25%      0.000000   12.000000  206581.000000   71.000000    0.000000  \n",
              "50%      0.000000   13.000000  236874.000000   74.000000    1.000000  \n",
              "75%      1.000000   14.000000  290305.000000   79.000000    1.000000  \n",
              "max      9.000000  150.000000  422424.000000   98.000000    1.000000  "
            ],
            "text/html": [
              "\n",
              "  <div id=\"df-2c08bcc8-ca7e-429a-bdde-1614466b5c52\">\n",
              "    <div class=\"colab-df-container\">\n",
              "      <div>\n",
              "<style scoped>\n",
              "    .dataframe tbody tr th:only-of-type {\n",
              "        vertical-align: middle;\n",
              "    }\n",
              "\n",
              "    .dataframe tbody tr th {\n",
              "        vertical-align: top;\n",
              "    }\n",
              "\n",
              "    .dataframe thead th {\n",
              "        text-align: right;\n",
              "    }\n",
              "</style>\n",
              "<table border=\"1\" class=\"dataframe\">\n",
              "  <thead>\n",
              "    <tr style=\"text-align: right;\">\n",
              "      <th></th>\n",
              "      <th>Id</th>\n",
              "      <th>Estradl</th>\n",
              "      <th>Entage</th>\n",
              "      <th>Numchild</th>\n",
              "      <th>Agefbo</th>\n",
              "      <th>Anykids</th>\n",
              "      <th>Agemenar</th>\n",
              "      <th>BMI</th>\n",
              "      <th>WHR</th>\n",
              "      <th>Area</th>\n",
              "    </tr>\n",
              "  </thead>\n",
              "  <tbody>\n",
              "    <tr>\n",
              "      <th>count</th>\n",
              "      <td>211.000000</td>\n",
              "      <td>211.000000</td>\n",
              "      <td>211.000000</td>\n",
              "      <td>211.000000</td>\n",
              "      <td>211.000000</td>\n",
              "      <td>211.000000</td>\n",
              "      <td>211.000000</td>\n",
              "      <td>211.000000</td>\n",
              "      <td>211.000000</td>\n",
              "      <td>211.000000</td>\n",
              "    </tr>\n",
              "    <tr>\n",
              "      <th>mean</th>\n",
              "      <td>2463.995261</td>\n",
              "      <td>189.824218</td>\n",
              "      <td>26.436019</td>\n",
              "      <td>0.720379</td>\n",
              "      <td>9.099526</td>\n",
              "      <td>0.516588</td>\n",
              "      <td>30.789100</td>\n",
              "      <td>238658.815166</td>\n",
              "      <td>69.644550</td>\n",
              "      <td>0.682464</td>\n",
              "    </tr>\n",
              "    <tr>\n",
              "      <th>std</th>\n",
              "      <td>2050.071930</td>\n",
              "      <td>834.601483</td>\n",
              "      <td>9.146919</td>\n",
              "      <td>1.648235</td>\n",
              "      <td>18.485633</td>\n",
              "      <td>1.435423</td>\n",
              "      <td>41.226342</td>\n",
              "      <td>82255.232455</td>\n",
              "      <td>21.231192</td>\n",
              "      <td>0.466625</td>\n",
              "    </tr>\n",
              "    <tr>\n",
              "      <th>min</th>\n",
              "      <td>2.000000</td>\n",
              "      <td>2.200000</td>\n",
              "      <td>11.000000</td>\n",
              "      <td>0.000000</td>\n",
              "      <td>0.000000</td>\n",
              "      <td>0.000000</td>\n",
              "      <td>9.000000</td>\n",
              "      <td>1925.000000</td>\n",
              "      <td>7.000000</td>\n",
              "      <td>0.000000</td>\n",
              "    </tr>\n",
              "    <tr>\n",
              "      <th>25%</th>\n",
              "      <td>60.500000</td>\n",
              "      <td>23.950000</td>\n",
              "      <td>21.000000</td>\n",
              "      <td>0.000000</td>\n",
              "      <td>0.000000</td>\n",
              "      <td>0.000000</td>\n",
              "      <td>12.000000</td>\n",
              "      <td>206581.000000</td>\n",
              "      <td>71.000000</td>\n",
              "      <td>0.000000</td>\n",
              "    </tr>\n",
              "    <tr>\n",
              "      <th>50%</th>\n",
              "      <td>3260.000000</td>\n",
              "      <td>39.000000</td>\n",
              "      <td>26.000000</td>\n",
              "      <td>0.000000</td>\n",
              "      <td>0.000000</td>\n",
              "      <td>0.000000</td>\n",
              "      <td>13.000000</td>\n",
              "      <td>236874.000000</td>\n",
              "      <td>74.000000</td>\n",
              "      <td>1.000000</td>\n",
              "    </tr>\n",
              "    <tr>\n",
              "      <th>75%</th>\n",
              "      <td>4265.000000</td>\n",
              "      <td>57.030000</td>\n",
              "      <td>31.000000</td>\n",
              "      <td>1.000000</td>\n",
              "      <td>18.000000</td>\n",
              "      <td>1.000000</td>\n",
              "      <td>14.000000</td>\n",
              "      <td>290305.000000</td>\n",
              "      <td>79.000000</td>\n",
              "      <td>1.000000</td>\n",
              "    </tr>\n",
              "    <tr>\n",
              "      <th>max</th>\n",
              "      <td>5039.000000</td>\n",
              "      <td>7857.000000</td>\n",
              "      <td>130.000000</td>\n",
              "      <td>9.000000</td>\n",
              "      <td>99.000000</td>\n",
              "      <td>9.000000</td>\n",
              "      <td>150.000000</td>\n",
              "      <td>422424.000000</td>\n",
              "      <td>98.000000</td>\n",
              "      <td>1.000000</td>\n",
              "    </tr>\n",
              "  </tbody>\n",
              "</table>\n",
              "</div>\n",
              "      <button class=\"colab-df-convert\" onclick=\"convertToInteractive('df-2c08bcc8-ca7e-429a-bdde-1614466b5c52')\"\n",
              "              title=\"Convert this dataframe to an interactive table.\"\n",
              "              style=\"display:none;\">\n",
              "        \n",
              "  <svg xmlns=\"http://www.w3.org/2000/svg\" height=\"24px\"viewBox=\"0 0 24 24\"\n",
              "       width=\"24px\">\n",
              "    <path d=\"M0 0h24v24H0V0z\" fill=\"none\"/>\n",
              "    <path d=\"M18.56 5.44l.94 2.06.94-2.06 2.06-.94-2.06-.94-.94-2.06-.94 2.06-2.06.94zm-11 1L8.5 8.5l.94-2.06 2.06-.94-2.06-.94L8.5 2.5l-.94 2.06-2.06.94zm10 10l.94 2.06.94-2.06 2.06-.94-2.06-.94-.94-2.06-.94 2.06-2.06.94z\"/><path d=\"M17.41 7.96l-1.37-1.37c-.4-.4-.92-.59-1.43-.59-.52 0-1.04.2-1.43.59L10.3 9.45l-7.72 7.72c-.78.78-.78 2.05 0 2.83L4 21.41c.39.39.9.59 1.41.59.51 0 1.02-.2 1.41-.59l7.78-7.78 2.81-2.81c.8-.78.8-2.07 0-2.86zM5.41 20L4 18.59l7.72-7.72 1.47 1.35L5.41 20z\"/>\n",
              "  </svg>\n",
              "      </button>\n",
              "      \n",
              "  <style>\n",
              "    .colab-df-container {\n",
              "      display:flex;\n",
              "      flex-wrap:wrap;\n",
              "      gap: 12px;\n",
              "    }\n",
              "\n",
              "    .colab-df-convert {\n",
              "      background-color: #E8F0FE;\n",
              "      border: none;\n",
              "      border-radius: 50%;\n",
              "      cursor: pointer;\n",
              "      display: none;\n",
              "      fill: #1967D2;\n",
              "      height: 32px;\n",
              "      padding: 0 0 0 0;\n",
              "      width: 32px;\n",
              "    }\n",
              "\n",
              "    .colab-df-convert:hover {\n",
              "      background-color: #E2EBFA;\n",
              "      box-shadow: 0px 1px 2px rgba(60, 64, 67, 0.3), 0px 1px 3px 1px rgba(60, 64, 67, 0.15);\n",
              "      fill: #174EA6;\n",
              "    }\n",
              "\n",
              "    [theme=dark] .colab-df-convert {\n",
              "      background-color: #3B4455;\n",
              "      fill: #D2E3FC;\n",
              "    }\n",
              "\n",
              "    [theme=dark] .colab-df-convert:hover {\n",
              "      background-color: #434B5C;\n",
              "      box-shadow: 0px 1px 3px 1px rgba(0, 0, 0, 0.15);\n",
              "      filter: drop-shadow(0px 1px 2px rgba(0, 0, 0, 0.3));\n",
              "      fill: #FFFFFF;\n",
              "    }\n",
              "  </style>\n",
              "\n",
              "      <script>\n",
              "        const buttonEl =\n",
              "          document.querySelector('#df-2c08bcc8-ca7e-429a-bdde-1614466b5c52 button.colab-df-convert');\n",
              "        buttonEl.style.display =\n",
              "          google.colab.kernel.accessAllowed ? 'block' : 'none';\n",
              "\n",
              "        async function convertToInteractive(key) {\n",
              "          const element = document.querySelector('#df-2c08bcc8-ca7e-429a-bdde-1614466b5c52');\n",
              "          const dataTable =\n",
              "            await google.colab.kernel.invokeFunction('convertToInteractive',\n",
              "                                                     [key], {});\n",
              "          if (!dataTable) return;\n",
              "\n",
              "          const docLinkHtml = 'Like what you see? Visit the ' +\n",
              "            '<a target=\"_blank\" href=https://colab.research.google.com/notebooks/data_table.ipynb>data table notebook</a>'\n",
              "            + ' to learn more about interactive tables.';\n",
              "          element.innerHTML = '';\n",
              "          dataTable['output_type'] = 'display_data';\n",
              "          await google.colab.output.renderOutput(dataTable, element);\n",
              "          const docLink = document.createElement('div');\n",
              "          docLink.innerHTML = docLinkHtml;\n",
              "          element.appendChild(docLink);\n",
              "        }\n",
              "      </script>\n",
              "    </div>\n",
              "  </div>\n",
              "  "
            ]
          },
          "metadata": {},
          "execution_count": 46
        }
      ]
    },
    {
      "cell_type": "code",
      "metadata": {
        "id": "I4ICrZ1bRPeE",
        "colab": {
          "base_uri": "https://localhost:8080/"
        },
        "outputId": "dc905011-615d-46eb-fe5f-bfeea0f9fe01"
      },
      "source": [
        "# Your answer here\n",
        "\n",
        "# Calculate the mean\n",
        "mean_values = estradiol_clean.mean()\n",
        "\n",
        "# Calculate the median\n",
        "median_values = estradiol_clean.median()\n",
        "\n",
        "# Calculate the standard deviation\n",
        "std_values = estradiol_clean.std()\n",
        "\n",
        "# Print the results\n",
        "print(\"Mean:\")\n",
        "print(mean_values)\n",
        "print(\"\\nMedian:\")\n",
        "print(median_values)\n",
        "print(\"\\nStandard Deviation:\")\n",
        "print(std_values)"
      ],
      "execution_count": 47,
      "outputs": [
        {
          "output_type": "stream",
          "name": "stdout",
          "text": [
            "Mean:\n",
            "Id            2463.995261\n",
            "Estradl        189.824218\n",
            "Entage          26.436019\n",
            "Numchild         0.720379\n",
            "Agefbo           9.099526\n",
            "Anykids          0.516588\n",
            "Agemenar        30.789100\n",
            "BMI         238658.815166\n",
            "WHR             69.644550\n",
            "Area             0.682464\n",
            "dtype: float64\n",
            "\n",
            "Median:\n",
            "Id            3260.0\n",
            "Estradl         39.0\n",
            "Entage          26.0\n",
            "Numchild         0.0\n",
            "Agefbo           0.0\n",
            "Anykids          0.0\n",
            "Agemenar        13.0\n",
            "BMI         236874.0\n",
            "WHR             74.0\n",
            "Area             1.0\n",
            "dtype: float64\n",
            "\n",
            "Standard Deviation:\n",
            "Id           2050.071930\n",
            "Estradl       834.601483\n",
            "Entage          9.146919\n",
            "Numchild        1.648235\n",
            "Agefbo         18.485633\n",
            "Anykids         1.435423\n",
            "Agemenar       41.226342\n",
            "BMI         82255.232455\n",
            "WHR            21.231192\n",
            "Area            0.466625\n",
            "dtype: float64\n"
          ]
        },
        {
          "output_type": "stream",
          "name": "stderr",
          "text": [
            "<ipython-input-47-a35fa5d39faa>:4: FutureWarning: The default value of numeric_only in DataFrame.mean is deprecated. In a future version, it will default to False. In addition, specifying 'numeric_only=None' is deprecated. Select only valid columns or specify the value of numeric_only to silence this warning.\n",
            "  mean_values = estradiol_clean.mean()\n",
            "<ipython-input-47-a35fa5d39faa>:7: FutureWarning: The default value of numeric_only in DataFrame.median is deprecated. In a future version, it will default to False. In addition, specifying 'numeric_only=None' is deprecated. Select only valid columns or specify the value of numeric_only to silence this warning.\n",
            "  median_values = estradiol_clean.median()\n",
            "<ipython-input-47-a35fa5d39faa>:10: FutureWarning: The default value of numeric_only in DataFrame.std is deprecated. In a future version, it will default to False. In addition, specifying 'numeric_only=None' is deprecated. Select only valid columns or specify the value of numeric_only to silence this warning.\n",
            "  std_values = estradiol_clean.std()\n"
          ]
        }
      ]
    },
    {
      "cell_type": "markdown",
      "metadata": {
        "id": "TfML6SzEHL43"
      },
      "source": [
        "## Outliers\n",
        "\n",
        "Analyze the presence of possible extreme values (outliers) in the Estradiol variable. If very extreme values are observed, delete the corresponding records from the file. Display a boxplot to visualize the possible presence of outliers. At the end of the deletion (if applicable), display a boxplot with the final values."
      ]
    },
    {
      "cell_type": "code",
      "metadata": {
        "id": "XBIW-2YkK63n",
        "colab": {
          "base_uri": "https://localhost:8080/",
          "height": 472
        },
        "outputId": "7921a400-2fc4-41ec-9ef6-5903ea0ee72e"
      },
      "source": [
        "# Your answer here\n",
        "\n",
        "\n",
        "import matplotlib.pyplot as plt\n",
        "\n",
        "# Assuming you have a DataFrame called 'df' with the 'Estradiol' variable\n",
        "\n",
        "# Create a boxplot\n",
        "plt.boxplot(estradiol_clean['Estradl'])\n",
        "\n",
        "# Add labels and title\n",
        "plt.xlabel('Estradiol')\n",
        "plt.ylabel('Value')\n",
        "plt.title('Boxplot of Estradiol')\n",
        "\n",
        "# Show the plot\n",
        "plt.show()"
      ],
      "execution_count": 69,
      "outputs": [
        {
          "output_type": "display_data",
          "data": {
            "text/plain": [
              "<Figure size 640x480 with 1 Axes>"
            ],
            "image/png": "[encoded data removed]"
          },
          "metadata": {}
        }
      ]
    },
    {
      "cell_type": "markdown",
      "source": [
        "It's clearly visible that there are outliers shown in the boxplot."
      ],
      "metadata": {
        "id": "oVtuudk3MOXa"
      }
    },
    {
      "cell_type": "markdown",
      "source": [
        "Step 1. Identify outliers using a suitable method, such as the Tukey's fences method. For instance, you can calculate the lower and upper fences as follows:"
      ],
      "metadata": {
        "id": "mSl4PxY5M2j8"
      }
    },
    {
      "cell_type": "code",
      "source": [
        "Q1 = estradiol_clean['Estradl'].quantile(0.25)\n",
        "Q3 = estradiol_clean['Estradl'].quantile(0.75)\n",
        "IQR = Q3 - Q1\n",
        "lower_fence = Q1 - 1.5 * IQR\n",
        "upper_fence = Q3 + 1.5 * IQR"
      ],
      "metadata": {
        "id": "nUAdgid-M9Gm"
      },
      "execution_count": 68,
      "outputs": []
    },
    {
      "cell_type": "markdown",
      "source": [
        "Step 2. Identify the records with 'Estradiol' values outside the lower and upper fences:"
      ],
      "metadata": {
        "id": "etqRl23iQbtJ"
      }
    },
    {
      "cell_type": "code",
      "source": [
        "outliers = estradiol_clean[(estradiol_clean['Estradl'] < lower_fence) | (estradiol_clean['Estradl'] > upper_fence)]\n"
      ],
      "metadata": {
        "id": "aGWLcGdrQJQM"
      },
      "execution_count": 70,
      "outputs": []
    },
    {
      "cell_type": "code",
      "source": [
        "print(outliers.index)"
      ],
      "metadata": {
        "colab": {
          "base_uri": "https://localhost:8080/"
        },
        "id": "xBVgCmCgWNjc",
        "outputId": "5681c3ba-88e8-4a95-d12d-13b2b8e9071a"
      },
      "execution_count": 71,
      "outputs": [
        {
          "output_type": "stream",
          "name": "stdout",
          "text": [
            "Int64Index([0, 32, 89, 139], dtype='int64')\n"
          ]
        }
      ]
    },
    {
      "cell_type": "markdown",
      "source": [
        "Step 3. If there are extreme values (outliers) present, you can choose to remove the corresponding records from the DataFrame:"
      ],
      "metadata": {
        "id": "VZBTo5ibM1sW"
      }
    },
    {
      "cell_type": "code",
      "source": [
        "estradiol_clean = estradiol_clean.drop(outliers.index)\n"
      ],
      "metadata": {
        "id": "TqHHMoT4Ql-F"
      },
      "execution_count": 72,
      "outputs": []
    },
    {
      "cell_type": "markdown",
      "source": [
        "Step 4. Plot boxplot again after removing the errors"
      ],
      "metadata": {
        "id": "w24R8W4HWqdu"
      }
    },
    {
      "cell_type": "code",
      "source": [
        "plt.boxplot(estradiol_clean['Estradl'])\n",
        "plt.xlabel('Estradiol')\n",
        "plt.ylabel('Value')\n",
        "plt.title('Boxplot of Estradiol (After Outlier Removal)')\n",
        "plt.show()\n"
      ],
      "metadata": {
        "colab": {
          "base_uri": "https://localhost:8080/",
          "height": 472
        },
        "id": "vIjYrJ2jQwaT",
        "outputId": "0e7b0acd-d517-402a-977e-d934e0ea1b32"
      },
      "execution_count": 73,
      "outputs": [
        {
          "output_type": "display_data",
          "data": {
            "text/plain": [
              "<Figure size 640x480 with 1 Axes>"
            ],
            "image/png": "[encoded data removed]"
          },
          "metadata": {}
        }
      ]
    },
    {
      "cell_type": "markdown",
      "metadata": {
        "id": "PRtiTMGpLFHl"
      },
      "source": [
        "## Quantitative values\n",
        "\n",
        "Check using boxplots or histograms the values of the rest of the quantitative variables and identify if there are any cases with anomalous values. You only have to identify them, we will correct them later."
      ]
    },
    {
      "cell_type": "code",
      "source": [
        "estradiol_clean = estradiol_clean.drop('Id', axis=1)\n",
        "\n",
        "# Filter only columns with numeric data type\n",
        "numeric_columns = estradiol_clean.select_dtypes(include=[float, int]).columns\n",
        "\n",
        "# Iterate over the numeric columns and create box plots\n",
        "for column in numeric_columns:\n",
        "    plt.figure()  # Create a new figure for each box plot\n",
        "    estradiol_clean.boxplot(column=[column])\n",
        "    plt.title('Boxplot of ' + column)\n",
        "    plt.ylabel('Values')\n",
        "\n",
        "# Show the plots\n",
        "plt.show()"
      ],
      "metadata": {
        "colab": {
          "base_uri": "https://localhost:8080/",
          "height": 1000
        },
        "id": "rwIjrChmnspH",
        "outputId": "77f58082-1423-4d9c-b703-588f5a9ba8d5"
      },
      "execution_count": 84,
      "outputs": [
        {
          "output_type": "display_data",
          "data": {
            "text/plain": [
              "<Figure size 640x480 with 1 Axes>"
            ],
            "image/png": "[encoded data removed]"
          },
          "metadata": {}
        },
        {
          "output_type": "display_data",
          "data": {
            "text/plain": [
              "<Figure size 640x480 with 1 Axes>"
            ],
            "image/png": "[encoded data removed]"
          },
          "metadata": {}
        },
        {
          "output_type": "display_data",
          "data": {
            "text/plain": [
              "<Figure size 640x480 with 1 Axes>"
            ],
            "image/png": "[encoded data removed]"
          },
          "metadata": {}
        },
        {
          "output_type": "display_data",
          "data": {
            "text/plain": [
              "<Figure size 640x480 with 1 Axes>"
            ],
            "image/png": "[encoded data removed]"
          },
          "metadata": {}
        },
        {
          "output_type": "display_data",
          "data": {
            "text/plain": [
              "<Figure size 640x480 with 1 Axes>"
            ],
            "image/png": "[encoded data removed]"
          },
          "metadata": {}
        },
        {
          "output_type": "display_data",
          "data": {
            "text/plain": [
              "<Figure size 640x480 with 1 Axes>"
            ],
            "image/png": "[encoded data removed]"
          },
          "metadata": {}
        },
        {
          "output_type": "display_data",
          "data": {
            "text/plain": [
              "<Figure size 640x480 with 1 Axes>"
            ],
            "image/png": "[encoded data removed]"
          },
          "metadata": {}
        },
        {
          "output_type": "display_data",
          "data": {
            "text/plain": [
              "<Figure size 640x480 with 1 Axes>"
            ],
            "image/png": "[encoded data removed]"
          },
          "metadata": {}
        },
        {
          "output_type": "display_data",
          "data": {
            "text/plain": [
              "<Figure size 640x480 with 1 Axes>"
            ],
            "image/png": "[encoded data removed]"
          },
          "metadata": {}
        }
      ]
    },
    {
      "cell_type": "markdown",
      "source": [
        "Except estradl all feature's boxplots shows outliers which need to be remove"
      ],
      "metadata": {
        "id": "ff_MXaiAqM9S"
      }
    },
    {
      "cell_type": "markdown",
      "metadata": {
        "id": "hpk-_lozMFC4"
      },
      "source": [
        "## Inconsistencies\n",
        "\n",
        "Identify and correct all possible inconsistencies mentioned below:\n",
        "\n",
        "* Inconsistencies between Anykids and Numchild. The Numchild value prevails. And therefore, Anykids must be adjusted accordingly.\n",
        "\n",
        "* Inconsistencies between Entage and Agemenarq. If Agemenarq is higher than EntAge, it is probably due to a data entry error and therefore the values must be exchanged.\n",
        "\n",
        "* Agefbo should be greater than Agemenarq if the woman has had any children. It takes the value 0 otherwise."
      ]
    },
    {
      "cell_type": "code",
      "metadata": {
        "id": "o8tTjv4eNp4d"
      },
      "source": [
        "# Your answer here"
      ],
      "execution_count": null,
      "outputs": []
    },
    {
      "cell_type": "markdown",
      "metadata": {
        "id": "pZ0KGkySN_i9"
      },
      "source": [
        "## Qualitative values\n",
        "\n",
        "Modify the values of the qualitative variables so that they satisfy the following conditions. Do not forget to identify possible errors.\n",
        "\n",
        "* The values of the Ethnic variable are standardized to \"African American\" and \"Caucasian\".\n",
        "\n",
        "* The values of the variable Anykids should be \"Yes\" (value 1), and \"No\" (value 0).\n",
        "\n",
        "* The values of the variable Area are \"Rural\" (value 1) or \"Urban\" (value 0)."
      ]
    },
    {
      "cell_type": "code",
      "metadata": {
        "id": "JjLchTKSOL-T"
      },
      "source": [
        "# Your answer here"
      ],
      "execution_count": null,
      "outputs": []
    },
    {
      "cell_type": "markdown",
      "metadata": {
        "id": "XhUw35zdP2Cw"
      },
      "source": [
        "## Imputation\n",
        "\n",
        "In the case of detecting any outliers in the quantitative variables age, age at menarche or number of children (not previously resolved) perform a value imputation on these variables.\n",
        "\n",
        "In case of performing value imputations, the imputation should be done using only the information of the quantitative variables and the data of the same ethnicity."
      ]
    },
    {
      "cell_type": "code",
      "metadata": {
        "id": "ekF5Cw_ISLP6"
      },
      "source": [
        "# Your answer here"
      ],
      "execution_count": null,
      "outputs": []
    },
    {
      "cell_type": "markdown",
      "metadata": {
        "id": "LrRor_YjSQvq"
      },
      "source": [
        "## Save file\n",
        "\n",
        "Save the preprocessed dataset in a new file named **estradiol_clean.csv**."
      ]
    },
    {
      "cell_type": "code",
      "metadata": {
        "id": "6SJEwAVcSa6Z"
      },
      "source": [
        "# Your answer here"
      ],
      "execution_count": null,
      "outputs": []
    }
  ]
}